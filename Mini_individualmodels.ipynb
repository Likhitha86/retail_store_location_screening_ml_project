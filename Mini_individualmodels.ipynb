{
  "nbformat": 4,
  "nbformat_minor": 0,
  "metadata": {
    "colab": {
      "provenance": []
    },
    "kernelspec": {
      "name": "python3",
      "display_name": "Python 3"
    },
    "language_info": {
      "name": "python"
    }
  },
  "cells": [
    {
      "cell_type": "code",
      "execution_count": null,
      "metadata": {
        "colab": {
          "base_uri": "https://localhost:8080/"
        },
        "id": "YgzU9jy9ltgU",
        "outputId": "960cd731-ca66-45ba-8c68-14ffa6c9c749"
      },
      "outputs": [
        {
          "output_type": "stream",
          "name": "stdout",
          "text": [
            "Root Mean Squared Error (RMSE): 0.1330515980987947\n",
            "Mean Absolute Percentage Error (MAPE): 49.32697683465225\n",
            "Normalized Discounted Cumulative Gain (NDCG): 0.9240267812058243\n"
          ]
        }
      ],
      "source": [
        "#PCA with TGIs\n",
        "import pandas as pd\n",
        "from sklearn.decomposition import PCA\n",
        "from sklearn.linear_model import LinearRegression\n",
        "from sklearn.model_selection import train_test_split\n",
        "from sklearn.metrics import mean_squared_error\n",
        "from sklearn.metrics import mean_absolute_error\n",
        "from sklearn.metrics import ndcg_score\n",
        "from sklearn.preprocessing import StandardScaler\n",
        "\n",
        "df = pd.read_excel('scaled_location_data.xlsx')\n",
        "\n",
        "X = df.drop('Average store monthly revenue', axis=1)\n",
        "Y = df['Average store monthly revenue']\n",
        "\n",
        "scaler = StandardScaler()\n",
        "X_standardized = scaler.fit_transform(X)\n",
        "\n",
        "X_train, X_test, Y_train, Y_test = train_test_split(X_standardized, Y, test_size=0.2, random_state=42)\n",
        "\n",
        "pca = PCA()\n",
        "X_train_pca = pca.fit_transform(X_train)\n",
        "\n",
        "explained_variance_ratio = pca.explained_variance_ratio_\n",
        "cumulative_explained_variance = explained_variance_ratio.cumsum()\n",
        "\n",
        "threshold = 0.95\n",
        "n_components = next(idx for idx, value in enumerate(cumulative_explained_variance) if value >= threshold) + 1\n",
        "\n",
        "pca = PCA(n_components=15)\n",
        "X_train_pca = pca.fit_transform(X_train)\n",
        "\n",
        "X_test_pca = pca.transform(X_test)\n",
        "\n",
        "model = LinearRegression()\n",
        "model.fit(X_train_pca, Y_train)\n",
        "\n",
        "predictions = model.predict(X_test_pca)\n",
        "\n",
        "rmse = mean_squared_error(Y_test, predictions, squared=False)\n",
        "print(f'Root Mean Squared Error (RMSE): {rmse}')\n",
        "\n",
        "mape = mean_absolute_error(Y_test, predictions) / abs(Y_test).mean() * 100\n",
        "print(f'Mean Absolute Percentage Error (MAPE): {mape}')\n",
        "\n",
        "ndcg = ndcg_score([Y_test.values], [predictions])\n",
        "print(f'Normalized Discounted Cumulative Gain (NDCG): {ndcg}')\n"
      ]
    },
    {
      "cell_type": "code",
      "source": [
        "#PCR with TGIs\n",
        "import pandas as pd\n",
        "from sklearn.decomposition import PCA\n",
        "from sklearn.linear_model import LinearRegression\n",
        "from sklearn.model_selection import cross_val_predict, KFold\n",
        "from sklearn.preprocessing import StandardScaler\n",
        "from sklearn.metrics import mean_squared_error, make_scorer\n",
        "from sklearn.metrics import mean_absolute_error\n",
        "from sklearn.metrics import ndcg_score\n",
        "import numpy as np\n",
        "\n",
        "df = pd.read_excel('scaled_location_data.xlsx')\n",
        "\n",
        "X = df.drop('Average store monthly revenue', axis=1)\n",
        "Y = df['Average store monthly revenue']\n",
        "\n",
        "scaler = StandardScaler()\n",
        "X_standardized = scaler.fit_transform(X)\n",
        "\n",
        "def ndcg_scorer(y_true, y_pred):\n",
        "    return ndcg_score([y_true.values], [y_pred])\n",
        "\n",
        "scoring = {'RMSE': 'neg_root_mean_squared_error',\n",
        "           'MAPE': make_scorer(mean_absolute_error),\n",
        "           'NDCG': ndcg_scorer}\n",
        "\n",
        "kf = KFold(n_splits=5, shuffle=True, random_state=42)\n",
        "\n",
        "rmse_scores = []\n",
        "mape_scores = []\n",
        "ndcg_scores = []\n",
        "\n",
        "for train_index, test_index in kf.split(X_standardized):\n",
        "    X_train, X_test = X_standardized[train_index], X_standardized[test_index]\n",
        "    Y_train, Y_test = Y.iloc[train_index], Y.iloc[test_index]\n",
        "\n",
        "    pca = PCA()\n",
        "    X_train_pca = pca.fit_transform(X_train)\n",
        "\n",
        "    threshold = 0.95\n",
        "    n_components = np.argmax(np.cumsum(pca.explained_variance_ratio_) >= threshold) + 1\n",
        "\n",
        "    pca = PCA(n_components=3)\n",
        "    X_train_pca = pca.fit_transform(X_train)\n",
        "\n",
        "    X_test_pca = pca.transform(X_test)\n",
        "\n",
        "    model = LinearRegression()\n",
        "    model.fit(X_train_pca, Y_train)\n",
        "\n",
        "    pcr_predictions = model.predict(X_test_pca)\n",
        "\n",
        "    rmse = np.sqrt(mean_squared_error(Y_test, pcr_predictions))\n",
        "    mape = mean_absolute_error(Y_test, pcr_predictions)\n",
        "    ndcg = ndcg_score([Y_test.values], [pcr_predictions])\n",
        "\n",
        "    rmse_scores.append(rmse)\n",
        "    mape_scores.append(mape)\n",
        "    ndcg_scores.append(ndcg)\n",
        "\n",
        "avg_rmse = np.mean(rmse_scores)\n",
        "avg_mape = np.mean(mape_scores)\n",
        "avg_ndcg = np.mean(ndcg_scores)\n",
        "\n",
        "print(f'Average RMSE across folds: {avg_rmse}')\n",
        "print(f'Average MAPE across folds: {avg_mape}')\n",
        "print(f'Average NDCG across folds: {avg_ndcg}')\n"
      ],
      "metadata": {
        "colab": {
          "base_uri": "https://localhost:8080/"
        },
        "id": "cKxgKQSUtYw8",
        "outputId": "4516e3b9-90a5-450b-f8c3-8bdcb5ba2c7d"
      },
      "execution_count": null,
      "outputs": [
        {
          "output_type": "stream",
          "name": "stdout",
          "text": [
            "Average RMSE across folds: 0.15481415509922383\n",
            "Average MAPE across folds: 0.11748763277233679\n",
            "Average NDCG across folds: 0.8526129075839692\n"
          ]
        }
      ]
    },
    {
      "cell_type": "code",
      "source": [
        "#RandomForest with TGIs\n",
        "import pandas as pd\n",
        "from sklearn.model_selection import train_test_split, cross_val_predict\n",
        "from sklearn.ensemble import RandomForestRegressor\n",
        "from sklearn.metrics import mean_squared_error\n",
        "from sklearn.metrics import mean_absolute_error\n",
        "from sklearn.metrics import make_scorer\n",
        "from sklearn.metrics import ndcg_score\n",
        "import numpy as np\n",
        "\n",
        "df = pd.read_excel('scaled_location_data1.xlsx')\n",
        "\n",
        "X = df.drop('Average store monthly revenue', axis=1)\n",
        "Y = df['Average store monthly revenue']\n",
        "\n",
        "X_train, X_test, Y_train, Y_test = train_test_split(X, Y, test_size=0.2, random_state=42)\n",
        "\n",
        "rf_model = RandomForestRegressor(random_state=42)\n",
        "\n",
        "def ndcg_scorer(y_true, y_pred):\n",
        "    return ndcg_score([y_true.values], [y_pred])\n",
        "\n",
        "scoring = {'RMSE': 'neg_root_mean_squared_error',\n",
        "           'MAPE': make_scorer(mean_absolute_error),\n",
        "           'NDCG': ndcg_scorer}\n",
        "\n",
        "rf_predictions = cross_val_predict(rf_model, X, Y, cv=5)\n",
        "\n",
        "rmse = np.sqrt(mean_squared_error(Y, rf_predictions))\n",
        "mape = mean_absolute_error(Y, rf_predictions)\n",
        "ndcg = ndcg_score([Y.values], [rf_predictions])\n",
        "\n",
        "print(f'RMSE on the entire dataset: {rmse}')\n",
        "print(f'MAPE on the entire dataset: {mape}')\n",
        "print(f'NDCG on the entire dataset: {ndcg}')\n"
      ],
      "metadata": {
        "colab": {
          "base_uri": "https://localhost:8080/"
        },
        "id": "1L9PojS5o_kR",
        "outputId": "e3892648-3b96-4ff8-b216-ae4784982890"
      },
      "execution_count": null,
      "outputs": [
        {
          "output_type": "stream",
          "name": "stdout",
          "text": [
            "RMSE on the entire dataset: 0.15052019065661348\n",
            "MAPE on the entire dataset: 0.11043210291112603\n",
            "NDCG on the entire dataset: 0.9000590540645967\n"
          ]
        }
      ]
    },
    {
      "cell_type": "code",
      "source": [
        "#Lasso with TGIs\n",
        "import pandas as pd\n",
        "from sklearn.model_selection import train_test_split, cross_val_predict\n",
        "from sklearn.linear_model import Lasso\n",
        "from sklearn.metrics import mean_squared_error, make_scorer\n",
        "from sklearn.metrics import mean_absolute_error\n",
        "from sklearn.metrics import ndcg_score\n",
        "import numpy as np\n",
        "\n",
        "df = pd.read_excel('scaled_location_data1.xlsx')\n",
        "\n",
        "X = df.drop('Average store monthly revenue', axis=1)\n",
        "Y = df['Average store monthly revenue']\n",
        "\n",
        "X_train, X_test, Y_train, Y_test = train_test_split(X, Y, test_size=0.2, random_state=42)\n",
        "\n",
        "lasso_model = Lasso(random_state=42)\n",
        "\n",
        "def ndcg_scorer(y_true, y_pred):\n",
        "    return ndcg_score([y_true.values], [y_pred])\n",
        "\n",
        "scoring = {'RMSE': 'neg_root_mean_squared_error',\n",
        "           'MAPE': make_scorer(mean_absolute_error),\n",
        "           'NDCG': ndcg_scorer}\n",
        "\n",
        "lasso_predictions = cross_val_predict(lasso_model, X, Y, cv=5)\n",
        "\n",
        "rmse = np.sqrt(mean_squared_error(Y, lasso_predictions))\n",
        "mape = mean_absolute_error(Y, lasso_predictions)\n",
        "ndcg = ndcg_score([Y.values], [lasso_predictions])\n",
        "\n",
        "print(f'RMSE on the entire dataset: {rmse}')\n",
        "print(f'MAPE on the entire dataset: {mape}')\n",
        "print(f'NDCG on the entire dataset: {ndcg}')\n"
      ],
      "metadata": {
        "colab": {
          "base_uri": "https://localhost:8080/"
        },
        "id": "A5nzPRf8qYFN",
        "outputId": "9bf2ec7b-c4b0-4336-e3f0-1181c0409ab0"
      },
      "execution_count": null,
      "outputs": [
        {
          "output_type": "stream",
          "name": "stdout",
          "text": [
            "RMSE on the entire dataset: 0.19799317493420046\n",
            "MAPE on the entire dataset: 0.15428603724788642\n",
            "NDCG on the entire dataset: 0.7261080720531122\n"
          ]
        }
      ]
    },
    {
      "cell_type": "code",
      "source": [
        "#GBDT with TGIs\n",
        "import pandas as pd\n",
        "from sklearn.model_selection import train_test_split, cross_val_predict\n",
        "from sklearn.ensemble import GradientBoostingRegressor\n",
        "from sklearn.metrics import mean_squared_error, make_scorer\n",
        "from sklearn.metrics import mean_absolute_error\n",
        "from sklearn.metrics import ndcg_score\n",
        "import numpy as np\n",
        "\n",
        "df = pd.read_excel('scaled_location_data1.xlsx')\n",
        "\n",
        "X = df.drop('Average store monthly revenue', axis=1)\n",
        "Y = df['Average store monthly revenue']\n",
        "\n",
        "X_train, X_test, Y_train, Y_test = train_test_split(X, Y, test_size=0.2, random_state=42)\n",
        "\n",
        "gbdt_model = GradientBoostingRegressor(random_state=42)\n",
        "\n",
        "def ndcg_scorer(y_true, y_pred):\n",
        "    return ndcg_score([y_true.values], [y_pred])\n",
        "\n",
        "scoring = {'RMSE': 'neg_root_mean_squared_error',\n",
        "           'MAPE': make_scorer(mean_absolute_error),\n",
        "           'NDCG': ndcg_scorer}\n",
        "\n",
        "gbdt_predictions = cross_val_predict(gbdt_model, X, Y, cv=5)\n",
        "\n",
        "rmse = np.sqrt(mean_squared_error(Y, gbdt_predictions))\n",
        "mape = mean_absolute_error(Y, gbdt_predictions)\n",
        "ndcg = ndcg_score([Y.values], [gbdt_predictions])\n",
        "\n",
        "print(f'RMSE on the entire dataset: {rmse}')\n",
        "print(f'MAPE on the entire dataset: {mape}')\n",
        "print(f'NDCG on the entire dataset: {ndcg}')\n"
      ],
      "metadata": {
        "colab": {
          "base_uri": "https://localhost:8080/"
        },
        "id": "HLzVXSmAq3eW",
        "outputId": "ab3edba3-251f-46d7-ae48-0be45beebf5a"
      },
      "execution_count": null,
      "outputs": [
        {
          "output_type": "stream",
          "name": "stdout",
          "text": [
            "RMSE on the entire dataset: 0.1485082796413721\n",
            "MAPE on the entire dataset: 0.10948367510720751\n",
            "NDCG on the entire dataset: 0.8988195706957863\n"
          ]
        }
      ]
    },
    {
      "cell_type": "code",
      "source": [
        "#NeuralNetwoks with TGIs\n",
        "import pandas as pd\n",
        "from sklearn.model_selection import KFold\n",
        "from sklearn.preprocessing import StandardScaler\n",
        "from sklearn.metrics import mean_squared_error, make_scorer\n",
        "from sklearn.metrics import mean_absolute_error\n",
        "from sklearn.metrics import ndcg_score\n",
        "from tensorflow.keras.models import Sequential\n",
        "from tensorflow.keras.layers import Dense\n",
        "import numpy as np\n",
        "\n",
        "df = pd.read_excel('scaled_location_data.xlsx')\n",
        "\n",
        "X = df.drop('Average store monthly revenue', axis=1)\n",
        "Y = df['Average store monthly revenue']\n",
        "\n",
        "scaler = StandardScaler()\n",
        "X_standardized = scaler.fit_transform(X)\n",
        "\n",
        "def ndcg_scorer(y_true, y_pred):\n",
        "    return ndcg_score([y_true.values], [y_pred])\n",
        "\n",
        "scoring = {'RMSE': 'neg_root_mean_squared_error',\n",
        "           'MAPE': make_scorer(mean_absolute_error),\n",
        "           'NDCG': ndcg_scorer}\n",
        "\n",
        "kf = KFold(n_splits=5, shuffle=True, random_state=42)\n",
        "\n",
        "rmse_scores = []\n",
        "mape_scores = []\n",
        "ndcg_scores = []\n",
        "\n",
        "for train_index, test_index in kf.split(X_standardized):\n",
        "    X_train, X_test = X_standardized[train_index], X_standardized[test_index]\n",
        "    Y_train, Y_test = Y.iloc[train_index], Y.iloc[test_index]\n",
        "\n",
        "    nn_model = Sequential()\n",
        "    nn_model.add(Dense(64, input_dim=X.shape[1], activation='relu'))\n",
        "    nn_model.add(Dense(1, activation='linear'))\n",
        "    nn_model.compile(optimizer='adam', loss='mean_squared_error')\n",
        "\n",
        "    nn_model.fit(X_train, Y_train, epochs=10, batch_size=32, verbose=0)\n",
        "\n",
        "    nn_predictions = nn_model.predict(X_test).flatten()\n",
        "\n",
        "    rmse = np.sqrt(mean_squared_error(Y_test, nn_predictions))\n",
        "    mape = mean_absolute_error(Y_test, nn_predictions)\n",
        "    ndcg = ndcg_score([Y_test.values], [nn_predictions])\n",
        "\n",
        "    rmse_scores.append(rmse)\n",
        "    mape_scores.append(mape)\n",
        "    ndcg_scores.append(ndcg)\n",
        "\n",
        "avg_rmse = np.mean(rmse_scores)\n",
        "avg_mape = np.mean(mape_scores)\n",
        "avg_ndcg = np.mean(ndcg_scores)\n",
        "\n",
        "print(f'Average RMSE across folds: {avg_rmse}')\n",
        "print(f'Average MAPE across folds: {avg_mape}')\n",
        "print(f'Average NDCG across folds: {avg_ndcg}')\n"
      ],
      "metadata": {
        "colab": {
          "base_uri": "https://localhost:8080/"
        },
        "id": "IuGyRjWHsEjn",
        "outputId": "74255e64-457e-45f8-db9e-6bc5228931f2"
      },
      "execution_count": null,
      "outputs": [
        {
          "output_type": "stream",
          "name": "stdout",
          "text": [
            "5/5 [==============================] - 0s 2ms/step\n",
            "5/5 [==============================] - 0s 2ms/step\n",
            "5/5 [==============================] - 0s 2ms/step\n",
            "5/5 [==============================] - 0s 2ms/step\n",
            "5/5 [==============================] - 0s 2ms/step\n",
            "Average RMSE across folds: 0.3368418463865684\n",
            "Average MAPE across folds: 0.2558913334615541\n",
            "Average NDCG across folds: 0.8194289896722402\n"
          ]
        }
      ]
    },
    {
      "cell_type": "code",
      "source": [
        "preprocessed_data_path = 'preprocessed_data1.xlsx'\n",
        "X_preprocessed = preprocessor.transform(X)\n",
        "preprocessed_df = pd.DataFrame(X_preprocessed, columns=X.columns)\n",
        "preprocessed_df['Average store monthly revenue'] = y\n",
        "preprocessed_df.to_excel(preprocessed_data_path, index=False)\n",
        "print(f'Preprocessed data saved to {preprocessed_data_path}')"
      ],
      "metadata": {
        "id": "6K36e7R_SBgv"
      },
      "execution_count": null,
      "outputs": []
    }
  ]
}