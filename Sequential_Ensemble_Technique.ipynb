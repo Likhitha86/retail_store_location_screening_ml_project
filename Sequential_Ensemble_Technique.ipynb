{
  "nbformat": 4,
  "nbformat_minor": 0,
  "metadata": {
    "colab": {
      "provenance": []
    },
    "kernelspec": {
      "name": "python3",
      "display_name": "Python 3"
    },
    "language_info": {
      "name": "python"
    }
  },
  "cells": [
    {
      "cell_type": "code",
      "execution_count": null,
      "metadata": {
        "colab": {
          "base_uri": "https://localhost:8080/"
        },
        "id": "F6bxWtHYDdDi",
        "outputId": "495695cd-2c50-47ad-a78a-1c59639a0784"
      },
      "outputs": [
        {
          "output_type": "stream",
          "name": "stdout",
          "text": [
            "Model Performance Metrics:\n",
            "Root Mean Squared Error (RMSE): 0.11646832854341554\n",
            "Mean Absolute Percentage Error (MAPE): 0.6372632916003068\n",
            "Normalized Discounted Cumulative Gain (NDCG): 0.8497396184826069\n"
          ]
        }
      ],
      "source": [
        "#Lasso First and PCR after\n",
        "import numpy as np\n",
        "import pandas as pd\n",
        "from sklearn.model_selection import train_test_split\n",
        "from sklearn.linear_model import Lasso\n",
        "from sklearn.decomposition import PCA\n",
        "from sklearn.metrics import mean_squared_error, mean_absolute_error\n",
        "from sklearn.metrics import mean_absolute_percentage_error\n",
        "from sklearn.metrics import ndcg_score\n",
        "\n",
        "# Load dataset from Excel file\n",
        "data = pd.read_excel('pca_transformed_dataset.xlsx')\n",
        "\n",
        "# Assume the last column is the target variable, and the rest are features\n",
        "X = data.drop('Average store monthly revenue',axis=1)\n",
        "y = data['Average store monthly revenue']\n",
        "\n",
        "# Split data into train and test sets\n",
        "X_train, X_test, y_train, y_test = train_test_split(X, y, test_size=0.2, random_state=49)\n",
        "\n",
        "# Fit Lasso model\n",
        "lasso_model = Lasso(alpha=0.1)\n",
        "lasso_model.fit(X_train, y_train)\n",
        "\n",
        "# Make predictions using Lasso model\n",
        "lasso_predictions = lasso_model.predict(X_test)\n",
        "\n",
        "# Apply PCR on Lasso predictions\n",
        "pca_model = PCA()\n",
        "X_train_pca = pca_model.fit_transform(X_train)\n",
        "X_test_pca = pca_model.transform(X_test)\n",
        "\n",
        "# Fit PCR model on Lasso predictions\n",
        "pcr_model = Lasso(alpha=0.001)\n",
        "pcr_model.fit(X_train_pca, y_train)\n",
        "\n",
        "# Make predictions using PCR model\n",
        "pcr_predictions = pcr_model.predict(X_test_pca)\n",
        "\n",
        "# Compute performance metrics for PCR model\n",
        "rmse = np.sqrt(mean_squared_error(y_test, pcr_predictions))\n",
        "mape = mean_absolute_percentage_error(y_test, pcr_predictions)\n",
        "ndcg = ndcg_score(y_test.values.reshape(1, -1), pcr_predictions.reshape(1, -1))\n",
        "\n",
        "# Print performance metrics for PCR model\n",
        "print(\"Model Performance Metrics:\")\n",
        "print(\"Root Mean Squared Error (RMSE):\", rmse)\n",
        "print(\"Mean Absolute Percentage Error (MAPE):\", mape)\n",
        "print(\"Normalized Discounted Cumulative Gain (NDCG):\", ndcg)\n"
      ]
    },
    {
      "cell_type": "code",
      "source": [
        "#Lasso first and NN after\n",
        "import numpy as np\n",
        "import pandas as pd\n",
        "from sklearn.model_selection import train_test_split\n",
        "from sklearn.linear_model import Lasso\n",
        "from sklearn.preprocessing import StandardScaler\n",
        "from sklearn.metrics import mean_squared_error, mean_absolute_error\n",
        "from sklearn.metrics import mean_absolute_percentage_error\n",
        "from sklearn.metrics import ndcg_score\n",
        "from sklearn.neural_network import MLPRegressor\n",
        "\n",
        "# Load dataset from Excel file\n",
        "data = pd.read_excel('pca_transformed_dataset.xlsx')\n",
        "\n",
        "# Assume the last column is the target variable, and the rest are features\n",
        "X = data.drop('Average store monthly revenue',axis=1)\n",
        "y = data['Average store monthly revenue']\n",
        "\n",
        "# Split data into train and test sets\n",
        "X_train, X_test, y_train, y_test = train_test_split(X, y, test_size=0.2, random_state=45)\n",
        "\n",
        "# Fit Lasso model\n",
        "lasso_model = Lasso(alpha=0.001)\n",
        "lasso_model.fit(X_train, y_train)\n",
        "\n",
        "# Make predictions using Lasso model\n",
        "lasso_predictions = lasso_model.predict(X_test)\n",
        "\n",
        "# Scale features for neural network\n",
        "scaler = StandardScaler()\n",
        "X_train_scaled = scaler.fit_transform(X_train)\n",
        "X_test_scaled = scaler.transform(X_test)\n",
        "\n",
        "# Define and train Neural Network\n",
        "nn_model = MLPRegressor(hidden_layer_sizes=(100, 50), activation='relu', solver='adam', random_state=45)\n",
        "nn_model.fit(X_train_scaled, y_train)\n",
        "\n",
        "# Make predictions using Neural Network\n",
        "nn_predictions = nn_model.predict(X_test_scaled)\n",
        "\n",
        "# Compute performance metrics for Neural Network\n",
        "rmse_nn = np.sqrt(mean_squared_error(y_test, nn_predictions))\n",
        "mape_nn = mean_absolute_percentage_error(y_test, nn_predictions)\n",
        "ndcg_nn = ndcg_score(y_test.values.reshape(1, -1), nn_predictions.reshape(1, -1))\n",
        "\n",
        "# Print performance metrics for Neural Network\n",
        "print(\"Model Performance Metrics:\")\n",
        "print(\"Root Mean Squared Error (RMSE):\", rmse_nn)\n",
        "print(\"Mean Absolute Percentage Error (MAPE):\", mape_nn)\n",
        "print(\"Normalized Discounted Cumulative Gain (NDCG):\", ndcg_nn)\n"
      ],
      "metadata": {
        "colab": {
          "base_uri": "https://localhost:8080/"
        },
        "id": "1XeUJX2uGW7P",
        "outputId": "683e8a1d-7f40-4b18-e3bf-441090ed1c4c"
      },
      "execution_count": null,
      "outputs": [
        {
          "output_type": "stream",
          "name": "stdout",
          "text": [
            "Model Performance Metrics:\n",
            "Root Mean Squared Error (RMSE): 0.17544530999074168\n",
            "Mean Absolute Percentage Error (MAPE): 1.132835154035199\n",
            "Normalized Discounted Cumulative Gain (NDCG): 0.8274047650047966\n"
          ]
        }
      ]
    },
    {
      "cell_type": "code",
      "source": [
        "#Lasso first and GBDT after\n",
        "import numpy as np\n",
        "import pandas as pd\n",
        "from sklearn.model_selection import train_test_split\n",
        "from sklearn.linear_model import Lasso\n",
        "from sklearn.ensemble import GradientBoostingRegressor\n",
        "from sklearn.metrics import mean_squared_error, mean_absolute_error\n",
        "from sklearn.metrics import mean_absolute_percentage_error\n",
        "from sklearn.metrics import ndcg_score\n",
        "from sklearn.preprocessing import StandardScaler\n",
        "\n",
        "# Load dataset from Excel file\n",
        "data = pd.read_excel('pca_transformed_dataset.xlsx')\n",
        "\n",
        "# Assume the last column is the target variable, and the rest are features\n",
        "X = data.drop('Average store monthly revenue',axis=1)\n",
        "y = data['Average store monthly revenue']\n",
        "\n",
        "# Split data into train and test sets\n",
        "X_train, X_test, y_train, y_test = train_test_split(X, y, test_size=0.2, random_state=47)\n",
        "\n",
        "# Fit Lasso model\n",
        "lasso_model = Lasso(alpha=0.001)  # You may adjust alpha based on your data\n",
        "lasso_model.fit(X_train, y_train)\n",
        "\n",
        "# Make predictions using Lasso model\n",
        "lasso_predictions = lasso_model.predict(X_test)\n",
        "\n",
        "# Scale features for GBDT\n",
        "scaler = StandardScaler()\n",
        "X_train_scaled = scaler.fit_transform(X_train)\n",
        "X_test_scaled = scaler.transform(X_test)\n",
        "\n",
        "# Define and train Gradient Boosted Decision Trees model\n",
        "gbdt_model = GradientBoostingRegressor(n_estimators=100, learning_rate=0.1, max_depth=3, random_state=50)\n",
        "gbdt_model.fit(X_train_scaled, y_train)\n",
        "\n",
        "# Make predictions using Gradient Boosted Decision Trees model\n",
        "gbdt_predictions = gbdt_model.predict(X_test_scaled)\n",
        "\n",
        "# Compute performance metrics for Gradient Boosted Decision Trees model\n",
        "rmse_gbdt = np.sqrt(mean_squared_error(y_test, gbdt_predictions))\n",
        "mape_gbdt = mean_absolute_percentage_error(y_test, gbdt_predictions)\n",
        "ndcg_gbdt = ndcg_score(y_test.values.reshape(1, -1), gbdt_predictions.reshape(1, -1))\n",
        "\n",
        "# Print performance metrics for Gradient Boosted Decision Trees model\n",
        "print(\"Model Performance Metrics:\")\n",
        "print(\"Root Mean Squared Error (RMSE):\", rmse_gbdt)\n",
        "print(\"Mean Absolute Percentage Error (MAPE):\", mape_gbdt)\n",
        "print(\"Normalized Discounted Cumulative Gain (NDCG):\", ndcg_gbdt)\n"
      ],
      "metadata": {
        "colab": {
          "base_uri": "https://localhost:8080/"
        },
        "id": "IljQeQb1IFOM",
        "outputId": "28522527-be0e-41a0-83d1-c3fdd7c0691c"
      },
      "execution_count": null,
      "outputs": [
        {
          "output_type": "stream",
          "name": "stdout",
          "text": [
            "Model Performance Metrics:\n",
            "Root Mean Squared Error (RMSE): 0.16337627221873477\n",
            "Mean Absolute Percentage Error (MAPE): 0.5911110919088558\n",
            "Normalized Discounted Cumulative Gain (NDCG): 0.8388871155120183\n"
          ]
        }
      ]
    },
    {
      "cell_type": "code",
      "source": [
        "#Lasso first and RF after\n",
        "import numpy as np\n",
        "import pandas as pd\n",
        "from sklearn.model_selection import train_test_split\n",
        "from sklearn.linear_model import Lasso\n",
        "from sklearn.ensemble import RandomForestRegressor\n",
        "from sklearn.metrics import mean_squared_error, mean_absolute_error\n",
        "from sklearn.metrics import mean_absolute_percentage_error\n",
        "from sklearn.metrics import ndcg_score\n",
        "from sklearn.preprocessing import StandardScaler\n",
        "\n",
        "# Load dataset from Excel file\n",
        "data = pd.read_excel('pca_transformed_dataset.xlsx')\n",
        "\n",
        "# Assume the last column is the target variable, and the rest are features\n",
        "X = data.drop('Average store monthly revenue',axis=1)\n",
        "y = data['Average store monthly revenue']\n",
        "\n",
        "# Split data into train and test sets\n",
        "X_train, X_test, y_train, y_test = train_test_split(X, y, test_size=0.2, random_state=50)\n",
        "\n",
        "# Fit Lasso model\n",
        "lasso_model = Lasso(alpha=0.1)  # You may adjust alpha based on your data\n",
        "lasso_model.fit(X_train, y_train)\n",
        "\n",
        "# Make predictions using Lasso model\n",
        "lasso_predictions = lasso_model.predict(X_test)\n",
        "\n",
        "# Scale features for Random Forest\n",
        "scaler = StandardScaler()\n",
        "X_train_scaled = scaler.fit_transform(X_train)\n",
        "X_test_scaled = scaler.transform(X_test)\n",
        "\n",
        "# Define and train Random Forest model\n",
        "rf_model = RandomForestRegressor(n_estimators=100, max_depth=10, random_state=47)\n",
        "rf_model.fit(X_train_scaled, y_train)\n",
        "\n",
        "# Make predictions using Random Forest model\n",
        "rf_predictions = rf_model.predict(X_test_scaled)\n",
        "\n",
        "# Compute performance metrics for Random Forest model\n",
        "rmse_rf = np.sqrt(mean_squared_error(y_test, rf_predictions))\n",
        "mape_rf = mean_absolute_percentage_error(y_test, rf_predictions)\n",
        "ndcg_rf = ndcg_score(y_test.values.reshape(1, -1), rf_predictions.reshape(1, -1))\n",
        "\n",
        "# Print performance metrics for Random Forest model\n",
        "print(\"Model Performance Metrics:\")\n",
        "print(\"Root Mean Squared Error (RMSE):\", rmse_rf)\n",
        "print(\"Mean Absolute Percentage Error (MAPE):\", mape_rf)\n",
        "print(\"Normalized Discounted Cumulative Gain (NDCG):\", ndcg_rf)\n"
      ],
      "metadata": {
        "colab": {
          "base_uri": "https://localhost:8080/"
        },
        "id": "lupsy8HNInTW",
        "outputId": "a96dd685-8549-47de-9676-fca576b41974"
      },
      "execution_count": null,
      "outputs": [
        {
          "output_type": "stream",
          "name": "stdout",
          "text": [
            "Model Performance Metrics:\n",
            "Root Mean Squared Error (RMSE): 0.12201056740626642\n",
            "Mean Absolute Percentage Error (MAPE): 0.946430197349634\n",
            "Normalized Discounted Cumulative Gain (NDCG): 0.8512233655576584\n"
          ]
        }
      ]
    }
  ]
}